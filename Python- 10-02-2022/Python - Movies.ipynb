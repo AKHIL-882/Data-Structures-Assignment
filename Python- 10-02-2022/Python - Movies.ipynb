{
  "nbformat": 4,
  "nbformat_minor": 0,
  "metadata": {
    "colab": {
      "name": "Untitled68.ipynb",
      "provenance": [],
      "collapsed_sections": []
    },
    "kernelspec": {
      "display_name": "Python 3",
      "name": "python3"
    },
    "language_info": {
      "name": "python"
    }
  },
  "cells": [
    {
      "cell_type": "code",
      "source": [
        "a={\"a\":24,\"b\":30,\"c\":27}\n",
        "print(a['a'])"
      ],
      "metadata": {
        "id": "rnREVcWdFDZN",
        "colab": {
          "base_uri": "https://localhost:8080/"
        },
        "outputId": "792cc1c9-57d8-409e-eeaf-10f7e88c017e"
      },
      "execution_count": null,
      "outputs": [
        {
          "output_type": "stream",
          "name": "stdout",
          "text": [
            "24\n"
          ]
        }
      ]
    },
    {
      "cell_type": "code",
      "source": [
        "a[\"d\"]=20"
      ],
      "metadata": {
        "id": "_yKwCToEUuN6"
      },
      "execution_count": null,
      "outputs": []
    },
    {
      "cell_type": "code",
      "source": [
        "a"
      ],
      "metadata": {
        "colab": {
          "base_uri": "https://localhost:8080/"
        },
        "id": "4jLa-XGIU2Y5",
        "outputId": "f71ee99f-9979-4206-937c-4d9ecafff71b"
      },
      "execution_count": null,
      "outputs": [
        {
          "output_type": "execute_result",
          "data": {
            "text/plain": [
              "{'a': 24, 'b': 30, 'c': 27, 'd': 20}"
            ]
          },
          "metadata": {},
          "execution_count": 3
        }
      ]
    },
    {
      "cell_type": "code",
      "source": [
        "a['a']=34\n",
        "a"
      ],
      "metadata": {
        "colab": {
          "base_uri": "https://localhost:8080/"
        },
        "id": "g7V-aq0AU27l",
        "outputId": "04bf4188-8208-4fbb-f6d3-446eeaecd31a"
      },
      "execution_count": null,
      "outputs": [
        {
          "output_type": "execute_result",
          "data": {
            "text/plain": [
              "{'a': 34, 'b': 30, 'c': 27, 'd': 20}"
            ]
          },
          "metadata": {},
          "execution_count": 5
        }
      ]
    },
    {
      "cell_type": "code",
      "source": [
        "num = int(input())\n",
        "count=0\n",
        "for n in range(2,10):\n",
        "  for x in range(2,n):\n",
        "    if(n%x==0):\n",
        "      print(f\"{n} equal {x} * {n//x}\")\n",
        "      break\n",
        "  else:\n",
        "    print(f\"{n} is a prime number\")\n",
        "    \n",
        "    \n",
        "\n"
      ],
      "metadata": {
        "colab": {
          "base_uri": "https://localhost:8080/"
        },
        "id": "IqWkBZppVGvG",
        "outputId": "a5fd5805-c5ee-4ba4-fe03-6e5c08dff0e0"
      },
      "execution_count": null,
      "outputs": [
        {
          "output_type": "stream",
          "name": "stdout",
          "text": [
            "29\n",
            "2 is a prime number\n",
            "3 is a prime number\n",
            "4 equal 2 * 2\n",
            "5 is a prime number\n",
            "6 equal 2 * 3\n",
            "7 is a prime number\n",
            "8 equal 2 * 4\n",
            "9 equal 3 * 3\n"
          ]
        }
      ]
    },
    {
      "cell_type": "code",
      "source": [
        "#print(\"a- Add a movie\\n 1 - See yur movies \\n f-- To find a movie q-- To quit\")\n",
        "moviesList = []\n",
        "while(1):\n",
        "  print(\"a- Add a movie\\n 1 - See yur movies \\n f-- To find a movie \\n q-- To quit\")\n",
        "  userInput = input()\n",
        "  if(userInput=='a'):\n",
        "    movieName = input()\n",
        "    moviesList.append(movieName)\n",
        "  if(userInput=='1'):\n",
        "    print(moviesList)\n",
        "  if(userInput=='f'):\n",
        "    movieFind = input()\n",
        "    if(movieFind in moviesList):\n",
        "      print(\"f'{movieFind} is present'}\")\n",
        "    else:\n",
        "      print(\"Movie not present\")\n",
        "  if(userInput=='q'):\n",
        "    break"
      ],
      "metadata": {
        "id": "Zh_WWFv5dsCb",
        "colab": {
          "base_uri": "https://localhost:8080/"
        },
        "outputId": "44808f4c-bf44-4e85-ddb1-787466122830"
      },
      "execution_count": null,
      "outputs": [
        {
          "name": "stdout",
          "output_type": "stream",
          "text": [
            "a- Add a movie\n",
            " 1 - See yur movies \n",
            " f-- To find a movie \n",
            " q-- To quit\n",
            "a\n",
            "akhil\n",
            "a- Add a movie\n",
            " 1 - See yur movies \n",
            " f-- To find a movie \n",
            " q-- To quit\n",
            "1\n",
            "['akhil']\n",
            "a- Add a movie\n",
            " 1 - See yur movies \n",
            " f-- To find a movie \n",
            " q-- To quit\n",
            "f\n",
            "akhil\n",
            "akhil\n",
            "a- Add a movie\n",
            " 1 - See yur movies \n",
            " f-- To find a movie \n",
            " q-- To quit\n",
            "q\n"
          ]
        }
      ]
    },
    {
      "cell_type": "code",
      "source": [
        "moviesList = []\n",
        "def addMovies():\n",
        "  name = input(\"\\n Enter the movie Name\")\n",
        "  director = input(\"\\n Enter the director name\")\n",
        "  year = int(input(\"\\n Enter the year of hte movie\"))\n",
        "  moviesList.append({\n",
        "      'name':name,\n",
        "      'director':director,\n",
        "      'year':year\n",
        "  })\n",
        "  #showMovies()\n",
        "  \n",
        "def findMovies():\n",
        "  findBy = input(\"Enter the attribute\")\n",
        "  lookingFor = input(\"Enter the details\")\n",
        "\n",
        "  movies = findByAttributes(lookingFor,lambda x:x[findBy])\n",
        "  print(movies)\n",
        "\n",
        "def findByAttributes(expected,finder):\n",
        "  found=[]\n",
        "  for movie in moviesList:\n",
        "    if(finder(movie)==expected):\n",
        "      found.append(movie)\n",
        "  return found\n",
        "\n",
        "\n",
        "def showMovies():\n",
        "  for movie in moviesList:\n",
        "    showMovieDetails(movie)\n",
        "\n",
        "\n",
        "def showMovieDetails(movie):\n",
        "  print(f\"Name: {movie['name']}\")\n",
        "  print(f\"Director: {movie['director']}\")\n",
        "  print(f\"Release year: {movie['year']}\")\n",
        "\n",
        "\n",
        "def menu():\n",
        "  userInput = input(\"a- Add a movie\\n l - See yur movies \\n f-- To find a movie \\n q-- To quit\\n\")\n",
        "  while(userInput!='q'):\n",
        "    if(userInput=='a'):\n",
        "      addMovies()\n",
        "    elif(userInput=='f'):\n",
        "      findMovies()\n",
        "    elif(userInput=='l'):\n",
        "      showMovies()\n",
        "    else:\n",
        "      print('Unknow Commaned - Please try again \\ n')\n",
        "    userInput = input(\"a- Add a movie\\n 1 - See yur movies \\n f-- To find a movie \\n q-- To quit\\n\")\n",
        "    \n",
        "menu()"
      ],
      "metadata": {
        "colab": {
          "base_uri": "https://localhost:8080/",
          "height": 1000
        },
        "id": "i1UaiRRPLi8W",
        "outputId": "d9409b22-fae5-46c1-f07b-4ddadbc2b804"
      },
      "execution_count": null,
      "outputs": [
        {
          "name": "stdout",
          "output_type": "stream",
          "text": [
            "a- Add a movie\n",
            " l - See yur movies \n",
            " f-- To find a movie \n",
            " q-- To quit\n",
            "a\n",
            "\n",
            " Enter the movie Namea\n",
            "\n",
            " Enter the director nameb\n",
            "\n",
            " Enter the year of hte movie5\n",
            "a- Add a movie\n",
            " 1 - See yur movies \n",
            " f-- To find a movie \n",
            " q-- To quit\n",
            "a\n",
            "\n",
            " Enter the movie Nameb\n",
            "\n",
            " Enter the director namee\n",
            "\n",
            " Enter the year of hte movie5\n",
            "a- Add a movie\n",
            " 1 - See yur movies \n",
            " f-- To find a movie \n",
            " q-- To quit\n",
            "f\n",
            "Enter the attributeyear\n",
            "Enter the details5\n"
          ]
        },
        {
          "output_type": "error",
          "ename": "KeyboardInterrupt",
          "evalue": "ignored",
          "traceback": [
            "\u001b[0;31m---------------------------------------------------------------------------\u001b[0m",
            "\u001b[0;31mKeyboardInterrupt\u001b[0m                         Traceback (most recent call last)",
            "\u001b[0;32m/usr/local/lib/python3.7/dist-packages/ipykernel/kernelbase.py\u001b[0m in \u001b[0;36m_input_request\u001b[0;34m(self, prompt, ident, parent, password)\u001b[0m\n\u001b[1;32m    728\u001b[0m             \u001b[0;32mtry\u001b[0m\u001b[0;34m:\u001b[0m\u001b[0;34m\u001b[0m\u001b[0;34m\u001b[0m\u001b[0m\n\u001b[0;32m--> 729\u001b[0;31m                 \u001b[0mident\u001b[0m\u001b[0;34m,\u001b[0m \u001b[0mreply\u001b[0m \u001b[0;34m=\u001b[0m \u001b[0mself\u001b[0m\u001b[0;34m.\u001b[0m\u001b[0msession\u001b[0m\u001b[0;34m.\u001b[0m\u001b[0mrecv\u001b[0m\u001b[0;34m(\u001b[0m\u001b[0mself\u001b[0m\u001b[0;34m.\u001b[0m\u001b[0mstdin_socket\u001b[0m\u001b[0;34m,\u001b[0m \u001b[0;36m0\u001b[0m\u001b[0;34m)\u001b[0m\u001b[0;34m\u001b[0m\u001b[0;34m\u001b[0m\u001b[0m\n\u001b[0m\u001b[1;32m    730\u001b[0m             \u001b[0;32mexcept\u001b[0m \u001b[0mException\u001b[0m\u001b[0;34m:\u001b[0m\u001b[0;34m\u001b[0m\u001b[0;34m\u001b[0m\u001b[0m\n",
            "\u001b[0;32m/usr/local/lib/python3.7/dist-packages/jupyter_client/session.py\u001b[0m in \u001b[0;36mrecv\u001b[0;34m(self, socket, mode, content, copy)\u001b[0m\n\u001b[1;32m    802\u001b[0m         \u001b[0;32mtry\u001b[0m\u001b[0;34m:\u001b[0m\u001b[0;34m\u001b[0m\u001b[0;34m\u001b[0m\u001b[0m\n\u001b[0;32m--> 803\u001b[0;31m             \u001b[0mmsg_list\u001b[0m \u001b[0;34m=\u001b[0m \u001b[0msocket\u001b[0m\u001b[0;34m.\u001b[0m\u001b[0mrecv_multipart\u001b[0m\u001b[0;34m(\u001b[0m\u001b[0mmode\u001b[0m\u001b[0;34m,\u001b[0m \u001b[0mcopy\u001b[0m\u001b[0;34m=\u001b[0m\u001b[0mcopy\u001b[0m\u001b[0;34m)\u001b[0m\u001b[0;34m\u001b[0m\u001b[0;34m\u001b[0m\u001b[0m\n\u001b[0m\u001b[1;32m    804\u001b[0m         \u001b[0;32mexcept\u001b[0m \u001b[0mzmq\u001b[0m\u001b[0;34m.\u001b[0m\u001b[0mZMQError\u001b[0m \u001b[0;32mas\u001b[0m \u001b[0me\u001b[0m\u001b[0;34m:\u001b[0m\u001b[0;34m\u001b[0m\u001b[0;34m\u001b[0m\u001b[0m\n",
            "\u001b[0;32m/usr/local/lib/python3.7/dist-packages/zmq/sugar/socket.py\u001b[0m in \u001b[0;36mrecv_multipart\u001b[0;34m(self, flags, copy, track)\u001b[0m\n\u001b[1;32m    624\u001b[0m         \"\"\"\n\u001b[0;32m--> 625\u001b[0;31m         \u001b[0mparts\u001b[0m \u001b[0;34m=\u001b[0m \u001b[0;34m[\u001b[0m\u001b[0mself\u001b[0m\u001b[0;34m.\u001b[0m\u001b[0mrecv\u001b[0m\u001b[0;34m(\u001b[0m\u001b[0mflags\u001b[0m\u001b[0;34m,\u001b[0m \u001b[0mcopy\u001b[0m\u001b[0;34m=\u001b[0m\u001b[0mcopy\u001b[0m\u001b[0;34m,\u001b[0m \u001b[0mtrack\u001b[0m\u001b[0;34m=\u001b[0m\u001b[0mtrack\u001b[0m\u001b[0;34m)\u001b[0m\u001b[0;34m]\u001b[0m\u001b[0;34m\u001b[0m\u001b[0;34m\u001b[0m\u001b[0m\n\u001b[0m\u001b[1;32m    626\u001b[0m         \u001b[0;31m# have first part already, only loop while more to receive\u001b[0m\u001b[0;34m\u001b[0m\u001b[0;34m\u001b[0m\u001b[0;34m\u001b[0m\u001b[0m\n",
            "\u001b[0;32mzmq/backend/cython/socket.pyx\u001b[0m in \u001b[0;36mzmq.backend.cython.socket.Socket.recv\u001b[0;34m()\u001b[0m\n",
            "\u001b[0;32mzmq/backend/cython/socket.pyx\u001b[0m in \u001b[0;36mzmq.backend.cython.socket.Socket.recv\u001b[0;34m()\u001b[0m\n",
            "\u001b[0;32mzmq/backend/cython/socket.pyx\u001b[0m in \u001b[0;36mzmq.backend.cython.socket._recv_copy\u001b[0;34m()\u001b[0m\n",
            "\u001b[0;32m/usr/local/lib/python3.7/dist-packages/zmq/backend/cython/checkrc.pxd\u001b[0m in \u001b[0;36mzmq.backend.cython.checkrc._check_rc\u001b[0;34m()\u001b[0m\n",
            "\u001b[0;31mKeyboardInterrupt\u001b[0m: ",
            "\nDuring handling of the above exception, another exception occurred:\n",
            "\u001b[0;31mKeyboardInterrupt\u001b[0m                         Traceback (most recent call last)",
            "\u001b[0;32m<ipython-input-17-6de4f04b16c0>\u001b[0m in \u001b[0;36m<module>\u001b[0;34m()\u001b[0m\n\u001b[1;32m     49\u001b[0m     \u001b[0muserInput\u001b[0m \u001b[0;34m=\u001b[0m \u001b[0minput\u001b[0m\u001b[0;34m(\u001b[0m\u001b[0;34m\"a- Add a movie\\n 1 - See yur movies \\n f-- To find a movie \\n q-- To quit\\n\"\u001b[0m\u001b[0;34m)\u001b[0m\u001b[0;34m\u001b[0m\u001b[0;34m\u001b[0m\u001b[0m\n\u001b[1;32m     50\u001b[0m \u001b[0;34m\u001b[0m\u001b[0m\n\u001b[0;32m---> 51\u001b[0;31m \u001b[0mmenu\u001b[0m\u001b[0;34m(\u001b[0m\u001b[0;34m)\u001b[0m\u001b[0;34m\u001b[0m\u001b[0;34m\u001b[0m\u001b[0m\n\u001b[0m",
            "\u001b[0;32m<ipython-input-17-6de4f04b16c0>\u001b[0m in \u001b[0;36mmenu\u001b[0;34m()\u001b[0m\n\u001b[1;32m     47\u001b[0m     \u001b[0;32melse\u001b[0m\u001b[0;34m:\u001b[0m\u001b[0;34m\u001b[0m\u001b[0;34m\u001b[0m\u001b[0m\n\u001b[1;32m     48\u001b[0m       \u001b[0mprint\u001b[0m\u001b[0;34m(\u001b[0m\u001b[0;34m'Unknow Commaned - Please try again \\ n'\u001b[0m\u001b[0;34m)\u001b[0m\u001b[0;34m\u001b[0m\u001b[0;34m\u001b[0m\u001b[0m\n\u001b[0;32m---> 49\u001b[0;31m     \u001b[0muserInput\u001b[0m \u001b[0;34m=\u001b[0m \u001b[0minput\u001b[0m\u001b[0;34m(\u001b[0m\u001b[0;34m\"a- Add a movie\\n 1 - See yur movies \\n f-- To find a movie \\n q-- To quit\\n\"\u001b[0m\u001b[0;34m)\u001b[0m\u001b[0;34m\u001b[0m\u001b[0;34m\u001b[0m\u001b[0m\n\u001b[0m\u001b[1;32m     50\u001b[0m \u001b[0;34m\u001b[0m\u001b[0m\n\u001b[1;32m     51\u001b[0m \u001b[0mmenu\u001b[0m\u001b[0;34m(\u001b[0m\u001b[0;34m)\u001b[0m\u001b[0;34m\u001b[0m\u001b[0;34m\u001b[0m\u001b[0m\n",
            "\u001b[0;32m/usr/local/lib/python3.7/dist-packages/ipykernel/kernelbase.py\u001b[0m in \u001b[0;36mraw_input\u001b[0;34m(self, prompt)\u001b[0m\n\u001b[1;32m    702\u001b[0m             \u001b[0mself\u001b[0m\u001b[0;34m.\u001b[0m\u001b[0m_parent_ident\u001b[0m\u001b[0;34m,\u001b[0m\u001b[0;34m\u001b[0m\u001b[0;34m\u001b[0m\u001b[0m\n\u001b[1;32m    703\u001b[0m             \u001b[0mself\u001b[0m\u001b[0;34m.\u001b[0m\u001b[0m_parent_header\u001b[0m\u001b[0;34m,\u001b[0m\u001b[0;34m\u001b[0m\u001b[0;34m\u001b[0m\u001b[0m\n\u001b[0;32m--> 704\u001b[0;31m             \u001b[0mpassword\u001b[0m\u001b[0;34m=\u001b[0m\u001b[0;32mFalse\u001b[0m\u001b[0;34m,\u001b[0m\u001b[0;34m\u001b[0m\u001b[0;34m\u001b[0m\u001b[0m\n\u001b[0m\u001b[1;32m    705\u001b[0m         )\n\u001b[1;32m    706\u001b[0m \u001b[0;34m\u001b[0m\u001b[0m\n",
            "\u001b[0;32m/usr/local/lib/python3.7/dist-packages/ipykernel/kernelbase.py\u001b[0m in \u001b[0;36m_input_request\u001b[0;34m(self, prompt, ident, parent, password)\u001b[0m\n\u001b[1;32m    732\u001b[0m             \u001b[0;32mexcept\u001b[0m \u001b[0mKeyboardInterrupt\u001b[0m\u001b[0;34m:\u001b[0m\u001b[0;34m\u001b[0m\u001b[0;34m\u001b[0m\u001b[0m\n\u001b[1;32m    733\u001b[0m                 \u001b[0;31m# re-raise KeyboardInterrupt, to truncate traceback\u001b[0m\u001b[0;34m\u001b[0m\u001b[0;34m\u001b[0m\u001b[0;34m\u001b[0m\u001b[0m\n\u001b[0;32m--> 734\u001b[0;31m                 \u001b[0;32mraise\u001b[0m \u001b[0mKeyboardInterrupt\u001b[0m\u001b[0;34m\u001b[0m\u001b[0;34m\u001b[0m\u001b[0m\n\u001b[0m\u001b[1;32m    735\u001b[0m             \u001b[0;32melse\u001b[0m\u001b[0;34m:\u001b[0m\u001b[0;34m\u001b[0m\u001b[0;34m\u001b[0m\u001b[0m\n\u001b[1;32m    736\u001b[0m                 \u001b[0;32mbreak\u001b[0m\u001b[0;34m\u001b[0m\u001b[0;34m\u001b[0m\u001b[0m\n",
            "\u001b[0;31mKeyboardInterrupt\u001b[0m: "
          ]
        }
      ]
    },
    {
      "cell_type": "code",
      "source": [
        "57"
      ],
      "metadata": {
        "id": "Oy5su4bENED5"
      },
      "execution_count": null,
      "outputs": []
    }
  ]
}