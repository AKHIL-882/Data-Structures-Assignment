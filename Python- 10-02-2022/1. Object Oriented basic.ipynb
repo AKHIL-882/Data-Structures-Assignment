{
  "nbformat": 4,
  "nbformat_minor": 0,
  "metadata": {
    "colab": {
      "name": "Untitled68.ipynb",
      "provenance": [],
      "collapsed_sections": []
    },
    "kernelspec": {
      "display_name": "Python 3",
      "name": "python3"
    },
    "language_info": {
      "name": "python"
    }
  },
  "cells": [
    {
      "cell_type": "code",
      "source": [
        "my_student = {\n",
        "    \n",
        "  'name':'Rolf smith',\n",
        "  'grades':[70,88,90,99],\n",
        "\n",
        "}\n",
        "\n",
        "def averageGrade(student):\n",
        "  return sum(student['grades'])/len(student['grades'])\n",
        "\n",
        "\n",
        "#print(averageGrade(my_student))\n",
        "\n",
        "class Student:\n",
        "  def __init__(self,new_name,new_grade):\n",
        "    self.name = new_name\n",
        "    self.grades = new_grade\n",
        "\n",
        "  def average(self):\n",
        "    return sum(self.grades)/len(self.grades)\n",
        "\n",
        "\n",
        "student_one = Student(\"Rolf smith\",[70,88,90,99])\n",
        "student_two = Student(\"Rolf \",[75,82,96,99])\n",
        "print(student_one.name)\n",
        "print(student_one.grades)\n",
        "print(student_one.average())\n",
        "print(Student.average(student_one))\n",
        "print(\"-----------------------------\")\n",
        "print(student_two.name)\n",
        "print(student_two.grades)\n",
        "print(student_two.average())\n",
        "print(Student.average(student_two))\n"
      ],
      "metadata": {
        "colab": {
          "base_uri": "https://localhost:8080/"
        },
        "id": "85Kfm-9r31De",
        "outputId": "ed1710a7-c5cd-4c6f-a854-a869cf53b8e8"
      },
      "execution_count": 21,
      "outputs": [
        {
          "output_type": "stream",
          "name": "stdout",
          "text": [
            "Rolf smith\n",
            "[70, 88, 90, 99]\n",
            "86.75\n",
            "86.75\n",
            "-----------------------------\n",
            "Rolf \n",
            "[75, 82, 96, 99]\n",
            "88.0\n",
            "88.0\n"
          ]
        }
      ]
    },
    {
      "cell_type": "code",
      "source": [
        ""
      ],
      "metadata": {
        "id": "QSkTfpZv4h5K"
      },
      "execution_count": null,
      "outputs": []
    }
  ]
}