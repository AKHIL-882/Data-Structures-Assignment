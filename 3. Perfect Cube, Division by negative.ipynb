{
  "nbformat": 4,
  "nbformat_minor": 0,
  "metadata": {
    "colab": {
      "name": "Untitled68.ipynb",
      "provenance": [],
      "collapsed_sections": []
    },
    "kernelspec": {
      "display_name": "Python 3",
      "name": "python3"
    },
    "language_info": {
      "name": "python"
    }
  },
  "cells": [
    {
      "cell_type": "code",
      "source": [
        "# Python3 program to find the prime\n",
        "# numbers between a given interval\n",
        "\n",
        "if __name__ == '__main__':\n",
        "\t\n",
        "\t# Declare the variables\n",
        "\ta, b, i, j, flag = 0, 0, 0, 0, 0\n",
        "\n",
        "\t# Ask user to enter lower value of interval\n",
        "\tprint(\"Enter lower bound of the interval:\",\n",
        "\t\t\t\t\t\t\t\t\tend = \"\")\n",
        "\ta = int(input()) # Take input\n",
        "\tprint(a)\n",
        "\t\n",
        "\t# Ask user to enter upper value of interval\n",
        "\tprint(\"Enter upper bound of the interval:\",\n",
        "\t\t\t\t\t\t\t\t\tend = \"\")\n",
        "\tb = int(input()) # Take input\n",
        "\tprint(b)\n",
        "\t\n",
        "\t# Print display message\n",
        "\tprint(\"Prime numbers between\", a, \"and\",\n",
        "\t\t\t\t\t\tb, \"are:\", end = \"\")\n",
        "\n",
        "\t# Traverse each number in the interval\n",
        "\t# with the help of for loop\n",
        "\tfor i in range(a, b + 1):\n",
        "\n",
        "\t\t# Skip 1 as1 is neither\n",
        "\t\t# prime nor composite\n",
        "\t\tif (i == 1):\n",
        "\t\t\tcontinue\n",
        "\n",
        "\t\t# flag variable to tell\n",
        "\t\t# if i is prime or not\n",
        "\t\tflag = 1\n",
        "\t\t\n",
        "\t\tfor j in range(2, i // 2 + 1):\n",
        "\t\t\tif (i % j == 0):\n",
        "\t\t\t\tflag = 0\n",
        "\t\t\t\tbreak\n",
        "\t\t\t\n",
        "\t\t# flag = 1 means i is prime\n",
        "\t\t# and flag = 0 means i is not prime\n",
        "\t\tif (flag == 1):\n",
        "\t\t\tprint(i, end = \" \")\n",
        "\t\t\t\n",
        "# This code is contributed\n",
        "# by Mohit kumar 29\n"
      ],
      "metadata": {
        "id": "n7DLhC2R25ct"
      },
      "execution_count": null,
      "outputs": []
    },
    {
      "cell_type": "code",
      "source": [
        "n = int(input())\n",
        "userInput = [int(n) for n in input().split()]\n",
        "val = int(input())\n",
        "for i in userInput:\n",
        "  if(val%i==0):\n",
        "    count=count+1\n",
        "  else:\n",
        "    i = abs(i)\n",
        "    if(val%i==0):\n",
        "      count=count+1\n",
        "print(count)"
      ],
      "metadata": {
        "colab": {
          "base_uri": "https://localhost:8080/"
        },
        "id": "GUYvfMH-1Qou",
        "outputId": "e99e2730-51cf-4ffd-8dab-9fecbf0f5bb5"
      },
      "execution_count": 10,
      "outputs": [
        {
          "output_type": "stream",
          "name": "stdout",
          "text": [
            "7\n",
            "20 10 9 8 -7 5 -13\n",
            "20\n",
            "6\n"
          ]
        }
      ]
    },
    {
      "cell_type": "code",
      "source": [
        "def f(userInput):\n",
        "  count=0\n",
        "  for i in userInput:\n",
        "    number = abs(i)\n",
        "    if(round(i ** (1 / 3)) ** 3 == i):\n",
        "      count=count+1\n",
        "  return count\n",
        "\n",
        "\n",
        "n = int(input())\n",
        "userInput = [int(n) for n in input().split()]\n",
        "print(f(userInput))"
      ],
      "metadata": {
        "colab": {
          "base_uri": "https://localhost:8080/"
        },
        "id": "ldGVzivY0Fx0",
        "outputId": "e2b55ebc-5e56-481c-f916-b3bc33873f20"
      },
      "execution_count": 8,
      "outputs": [
        {
          "output_type": "stream",
          "name": "stdout",
          "text": [
            "6\n",
            "125 216 54 81 48 343\n",
            "3\n"
          ]
        }
      ]
    },
    {
      "cell_type": "code",
      "source": [
        "import math\n",
        "count=0\n",
        "number = int(input())\n",
        "userInput = [int(n) for n in input().split()]\n",
        "for i in userInput:\n",
        "  root = math.sqrt(i)\n",
        "  if(int(root+0.5)**3==i):\n",
        "    count=count+1\n",
        "print(count)"
      ],
      "metadata": {
        "colab": {
          "base_uri": "https://localhost:8080/"
        },
        "id": "sSHDQ56iyshZ",
        "outputId": "2d111a73-de2b-4eaf-d5ef-a28d181aca39"
      },
      "execution_count": 6,
      "outputs": [
        {
          "output_type": "stream",
          "name": "stdout",
          "text": [
            "6\n",
            "25 216 54 81 48 343\n",
            "0\n"
          ]
        }
      ]
    },
    {
      "cell_type": "code",
      "source": [
        "1\n",
        "def perfectCube(userInput):\n",
        "    count=0\n",
        "    cube = 0\n",
        "    for i in userInput:\n",
        "      cube = i * i * i;\n",
        "      if (cube == i) :\n",
        "        count=count+1\n",
        "    return count\n",
        "n = int(input())\n",
        "userInput = [int(n) for n in input().split()]\n",
        "print(perfectCube(userInput))\n",
        "\n",
        "# This code is contributed by Yash_R\n"
      ],
      "metadata": {
        "colab": {
          "base_uri": "https://localhost:8080/"
        },
        "id": "R8h9PZnnzXWR",
        "outputId": "dbe5332a-4d3d-490e-93f6-f1222acf10dc"
      },
      "execution_count": 5,
      "outputs": [
        {
          "output_type": "stream",
          "name": "stdout",
          "text": [
            "5\n",
            "125 216 54 81 48 343\n",
            "0\n"
          ]
        }
      ]
    },
    {
      "cell_type": "code",
      "source": [
        "12 pip install --user -U nltk\n"
      ],
      "metadata": {
        "colab": {
          "base_uri": "https://localhost:8080/"
        },
        "id": "83iCufA3nAWV",
        "outputId": "2ed4bbbe-acf2-4fda-ab52-8ee2e5ee8fb8"
      },
      "execution_count": null,
      "outputs": [
        {
          "output_type": "stream",
          "name": "stdout",
          "text": [
            "Requirement already satisfied: nltk in /root/.local/lib/python3.7/site-packages (3.7)\n",
            "Requirement already satisfied: click in /usr/local/lib/python3.7/dist-packages (from nltk) (7.1.2)\n",
            "Requirement already satisfied: tqdm in /usr/local/lib/python3.7/dist-packages (from nltk) (4.62.3)\n",
            "Requirement already satisfied: joblib in /usr/local/lib/python3.7/dist-packages (from nltk) (1.1.0)\n",
            "Requirement already satisfied: regex>=2021.8.3 in /root/.local/lib/python3.7/site-packages (from nltk) (2022.1.18)\n"
          ]
        }
      ]
    },
    {
      "cell_type": "code",
      "source": [
        "from nltk.tokenize import word_tokenize \n",
        "import nltk\n",
        "nltk.download('punkt')"
      ],
      "metadata": {
        "id": "w6sCY-qDoZX4"
      },
      "execution_count": null,
      "outputs": []
    },
    {
      "cell_type": "code",
      "source": [
        "\n",
        "text = \"\"\"Blessed are the poor in spirit, for theirs is the kingdom of heaven. Blessed are those who mourn, for thy will be conforted. Bleassed are the meek, for htey will inherit the earth. Matthew 5:3-5\"\"\"\n",
        "tokens = word_tokenize(text)\n",
        "print(tokens)\n",
        "filtered_sentence = (\" \").join(tokens_without_sw)\n",
        "print(filtered_sentence)"
      ],
      "metadata": {
        "colab": {
          "base_uri": "https://localhost:8080/"
        },
        "id": "dyrRI0i2mp5m",
        "outputId": "4c98347d-5b55-4b8e-b2ca-6434e6432137"
      },
      "execution_count": null,
      "outputs": [
        {
          "output_type": "stream",
          "name": "stdout",
          "text": [
            "['Blessed', 'are', 'the', 'poor', 'in', 'spirit', ',', 'for', 'theirs', 'is', 'the', 'kingdom', 'of', 'heaven', '.', 'Blessed', 'are', 'those', 'who', 'mourn', ',', 'for', 'thy', 'will', 'be', 'conforted', '.', 'Bleassed', 'are', 'the', 'meek', ',', 'for', 'htey', 'will', 'inherit', 'the', 'earth', '.', 'Matthew', '5:3-5']\n",
            "Blessed are the poor in spirit , for theirs is the kingdom of heaven . Blessed are those who mourn , for thy will be conforted . Bleassed are the meek , for htey will inherit the earth . Matthew 5:3-5\n"
          ]
        }
      ]
    },
    {
      "cell_type": "code",
      "source": [
        "from gensim.parsing.preprocessing import remove_stopwords\n",
        "\n",
        "text = filtered_sentence\n",
        "filtered_sentence = remove_stopwords(text)\n",
        "\n",
        "print(filtered_sentence)"
      ],
      "metadata": {
        "colab": {
          "base_uri": "https://localhost:8080/"
        },
        "id": "ujt7aEm8omv2",
        "outputId": "d0cba7f7-82b4-4f8a-a4f2-095192d66081"
      },
      "execution_count": null,
      "outputs": [
        {
          "output_type": "stream",
          "name": "stdout",
          "text": [
            "Blessed poor spirit , theirs kingdom heaven . Blessed mourn , thy conforted . Bleassed meek , htey inherit earth . Matthew 5:3-5\n"
          ]
        }
      ]
    },
    {
      "cell_type": "code",
      "source": [
        ""
      ],
      "metadata": {
        "id": "Re-FasFFomtJ"
      },
      "execution_count": null,
      "outputs": []
    },
    {
      "cell_type": "code",
      "source": [
        ""
      ],
      "metadata": {
        "id": "Mo9JCVKromqb"
      },
      "execution_count": null,
      "outputs": []
    },
    {
      "cell_type": "code",
      "source": [
        ""
      ],
      "metadata": {
        "id": "ovhdFfQ9omm6"
      },
      "execution_count": null,
      "outputs": []
    },
    {
      "cell_type": "code",
      "source": [
        "my_student = {\n",
        "    \n",
        "  'name':'Rolf smith',\n",
        "  'grades':[70,88,90,99],\n",
        "\n",
        "}\n",
        "\n",
        "def averageGrade(student):\n",
        "  return sum(student['grades'])/len(student['grades'])\n",
        "\n",
        "\n",
        "#print(averageGrade(my_student))\n",
        "\n",
        "class Student:\n",
        "  def __init__(self,new_name,new_grade):\n",
        "    self.name = new_name\n",
        "    self.grades = new_grade\n",
        "\n",
        "  def average(self):\n",
        "    return sum(self.grades)/len(self.grades)\n",
        "\n",
        "\n",
        "student_one = Student(\"Rolf smith\",[70,88,90,99])\n",
        "student_two = Student(\"Rolf \",[75,82,96,99])\n",
        "print(student_one.name)\n",
        "print(student_one.grades)\n",
        "print(student_one.average())\n",
        "print(Student.average(student_one))\n",
        "print(\"-----------------------------\")\n",
        "print(student_two.name)\n",
        "print(student_two.grades)\n",
        "print(student_two.average())\n",
        "print(Student.average(student_two))\n"
      ],
      "metadata": {
        "colab": {
          "base_uri": "https://localhost:8080/"
        },
        "id": "85Kfm-9r31De",
        "outputId": "ed1710a7-c5cd-4c6f-a854-a869cf53b8e8"
      },
      "execution_count": null,
      "outputs": [
        {
          "output_type": "stream",
          "name": "stdout",
          "text": [
            "Rolf smith\n",
            "[70, 88, 90, 99]\n",
            "86.75\n",
            "86.75\n",
            "-----------------------------\n",
            "Rolf \n",
            "[75, 82, 96, 99]\n",
            "88.0\n",
            "88.0\n"
          ]
        }
      ]
    },
    {
      "cell_type": "code",
      "source": [
        ""
      ],
      "metadata": {
        "id": "QSkTfpZv4h5K"
      },
      "execution_count": null,
      "outputs": []
    }
  ]
}